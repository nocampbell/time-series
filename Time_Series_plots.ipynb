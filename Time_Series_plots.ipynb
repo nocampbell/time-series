{
  "cells": [
    {
      "cell_type": "markdown",
      "metadata": {
        "id": "MlfGmkRYPkOT"
      },
      "source": [
        "<a href=\"https://colab.research.google.com/github/https-deeplearning-ai/tensorflow-1-public/blob/main/C4/W1/ungraded_labs/C4_W1_Lab_1_time_series.ipynb\" target=\"_parent\"><img src=\"https://colab.research.google.com/assets/colab-badge.svg\" alt=\"Open In Colab\"/></a>"
      ]
    },
    {
      "cell_type": "markdown",
      "metadata": {
        "id": "w_XJiOdr-MSM"
      },
      "source": [
        "# Time Series Plots\n",
        "\n",
        "This notebook aims to show different terminologies and attributes of a time series by generating and plotting synthetic data."
      ]
    },
    {
      "cell_type": "code",
      "execution_count": null,
      "metadata": {
        "id": "gqWabzlJ63nL"
      },
      "outputs": [],
      "source": [
        "import matplotlib.pyplot as plt\n",
        "import numpy as np"
      ]
    },
    {
      "cell_type": "markdown",
      "metadata": {
        "id": "20wPCynItW0Z"
      },
      "source": [
        "## Plot Utilities\n",
        "\n",
        " The following code will visualize numpy arrays into a graph using Pyplot's [plot()](https://matplotlib.org/stable/api/_as_gen/matplotlib.pyplot.plot.html) method."
      ]
    },
    {
      "cell_type": "code",
      "execution_count": null,
      "metadata": {
        "id": "sJwA96JU00pW"
      },
      "outputs": [],
      "source": [
        "def plot_series(time, series, format=\"-\", start=0, end=None, label=None):\n",
        "    \"\"\"\n",
        "    Visualizes time series data\n",
        "\n",
        "    Args:\n",
        "      time (array of int) - contains the time steps\n",
        "      series (array of int) - contains the measurements for each time step\n",
        "      format (string) - line style when plotting the graph\n",
        "      start (int) - first time step to plot\n",
        "      end (int) - last time step to plot\n",
        "      label (list of strings)- tag for the line\n",
        "    \"\"\"\n",
        "\n",
        "    # setup dimensions of the graph figure\n",
        "    plt.figure(figsize=(10, 6))\n",
        "\n",
        "    # plot the time series data\n",
        "    plt.plot(time[start:end], series[start:end], format)\n",
        "\n",
        "    # label the x-axis\n",
        "    plt.xlabel(\"Time\")\n",
        "\n",
        "    # label the y-axis\n",
        "    plt.ylabel(\"Value\")\n",
        "\n",
        "    if label:\n",
        "      plt.legend(fontsize=14, labels=label)\n",
        "\n",
        "    # overlay a grid on the graph\n",
        "    plt.grid(True)\n",
        "\n",
        "    # draw the graph on screen\n",
        "    plt.show()"
      ]
    },
    {
      "cell_type": "code",
      "execution_count": null,
      "metadata": {
        "id": "t30Ts2KjiOIY"
      },
      "outputs": [],
      "source": [
        "def trend(time, slope=0):\n",
        "    \"\"\"\n",
        "    Generates synthetic data that follows a straight line given a slope value.\n",
        "\n",
        "    Args:\n",
        "      time (array of int) - contains the time steps\n",
        "      slope (float) - determines the direction and steepness of the line\n",
        "\n",
        "    Returns:\n",
        "      series (array of float) - measurements that follow a straight line\n",
        "    \"\"\"\n",
        "\n",
        "    # compute the linear series given the slope\n",
        "    series = slope * time\n",
        "\n",
        "    return series"
      ]
    },
    {
      "cell_type": "code",
      "execution_count": null,
      "metadata": {
        "id": "BLt-pLiZ0nfB"
      },
      "outputs": [],
      "source": [
        "# Generate time steps. Assume 1 per day for one year (365 days)\n",
        "time = np.arange(365)\n",
        "\n",
        "# define the slope\n",
        "slope = 0.1\n",
        "\n",
        "# generate measurements with the defined slope\n",
        "series = trend(time, slope)\n",
        "\n",
        "# results\n",
        "plot_series(time, series, label=[f'slope={slope}'])"
      ]
    },
    {
      "cell_type": "markdown",
      "metadata": {
        "id": "WKD4nh9sauBf"
      },
      "source": [
        "## Seasonality\n"
      ]
    },
    {
      "cell_type": "code",
      "execution_count": null,
      "metadata": {
        "id": "89gdEnPY1Niy"
      },
      "outputs": [],
      "source": [
        "def seasonal_pattern(season_time):\n",
        "    \"\"\"\n",
        "    Just an arbitrary pattern, you can change it if you wish\n",
        "\n",
        "    Args:\n",
        "      season_time (array of float) - contains the measurements per time step\n",
        "\n",
        "    Returns:\n",
        "      data_pattern (array of float) -  contains revised measurement values according\n",
        "                                  to the defined pattern\n",
        "    \"\"\"\n",
        "\n",
        "    # generate the values using an arbitrary pattern\n",
        "    data_pattern = np.where(season_time < 0.4,\n",
        "                    np.cos(season_time * 2 * np.pi),\n",
        "                    1 / np.exp(3 * season_time))\n",
        "\n",
        "    return data_pattern\n",
        "\n",
        "def seasonality(time, period, amplitude=1, phase=0):\n",
        "    \"\"\"\n",
        "    Repeats the same pattern at each period\n",
        "\n",
        "    Args:\n",
        "      time (array of int) - contains the time steps\n",
        "      period (int) - number of time steps before the pattern repeats\n",
        "      amplitude (int) - peak measured value in a period\n",
        "      phase (int) - number of time steps to shift the measured values\n",
        "\n",
        "    Returns:\n",
        "      data_pattern (array of float) - seasonal data scaled by the defined amplitude\n",
        "    \"\"\"\n",
        "\n",
        "    # Define the measured values per period\n",
        "    season_time = ((time + phase) % period) / period\n",
        "\n",
        "    # Generates the seasonal data scaled by the defined amplitude\n",
        "    data_pattern = amplitude * seasonal_pattern(season_time)\n",
        "\n",
        "    return data_pattern"
      ]
    },
    {
      "cell_type": "code",
      "execution_count": null,
      "metadata": {
        "id": "7kaNezUk1S9l"
      },
      "outputs": [],
      "source": [
        "# generate time steps\n",
        "time = np.arange(4 * 365 + 1)\n",
        "\n",
        "# define the parameters of the seasonal data\n",
        "period = 365\n",
        "amplitude = 40\n",
        "\n",
        "# generate the seasonal data\n",
        "series = seasonality(time, period=period, amplitude=amplitude)\n",
        "\n",
        "# plot the results\n",
        "plot_series(time, series)"
      ]
    },
    {
      "cell_type": "code",
      "execution_count": null,
      "metadata": {
        "id": "AyqFdaIN1oy5"
      },
      "outputs": [],
      "source": [
        "# Define seasonal parameters\n",
        "slope = 0.05\n",
        "period = 365\n",
        "amplitude = 40\n",
        "\n",
        "# Generate the data\n",
        "series = trend(time, slope) + seasonality(time, period=period, amplitude=amplitude)\n",
        "\n",
        "# Plot the results\n",
        "plot_series(time, series)"
      ]
    },
    {
      "cell_type": "markdown",
      "metadata": {
        "id": "YVdJ2jNN8OHk"
      },
      "source": [
        "## Noise\n",
        "\n",
        "The next cells will show what a noisy signal looks like:"
      ]
    },
    {
      "cell_type": "code",
      "execution_count": null,
      "metadata": {
        "id": "3kD3_zjVscBH"
      },
      "outputs": [],
      "source": [
        "def noise(time, noise_level=1, seed=None):\n",
        "    \"\"\"Generates a normally distributed noisy signal\n",
        "\n",
        "    Args:\n",
        "      time (array of int) - contains the time steps\n",
        "      noise_level (float) - scaling factor for the generated signal\n",
        "      seed (int) - number generator seed for repeatability\n",
        "\n",
        "    Returns:\n",
        "      noise (array of float) - the noisy signal\n",
        "\n",
        "    \"\"\"\n",
        "\n",
        "    # initialize the random number generator\n",
        "    rnd = np.random.RandomState(seed)\n",
        "\n",
        "    # generate a random number for each time step and scale by the noise level\n",
        "    noise = rnd.randn(len(time)) * noise_level\n",
        "\n",
        "    return noise\n"
      ]
    },
    {
      "cell_type": "code",
      "execution_count": null,
      "metadata": {
        "id": "aLvBwrKrtDzo"
      },
      "outputs": [],
      "source": [
        "# define noise level\n",
        "noise_level = 5\n",
        "\n",
        "# generate noisy signal\n",
        "noise_signal = noise(time, noise_level=noise_level, seed=42)\n",
        "\n",
        "# plot the results\n",
        "plot_series(time, noise_signal)"
      ]
    },
    {
      "cell_type": "code",
      "execution_count": null,
      "metadata": {
        "id": "2bRDx8K816N9"
      },
      "outputs": [],
      "source": [
        "# add the noise to the time series\n",
        "series += noise_signal\n",
        "\n",
        "# plot the results\n",
        "plot_series(time, series)"
      ]
    },
    {
      "cell_type": "markdown",
      "metadata": {
        "id": "SdNrh28JrHyj"
      },
      "source": [
        "## Autocorrelation\n",
        "\n"
      ]
    },
    {
      "cell_type": "code",
      "execution_count": null,
      "metadata": {
        "id": "GICxGswL2aqK"
      },
      "outputs": [],
      "source": [
        "def autocorrelation(time, amplitude, seed=None):\n",
        "    \"\"\"\n",
        "    Generates autocorrelated data\n",
        "\n",
        "    Args:\n",
        "      time (array of int) - contains the time steps\n",
        "      amplitude (float) - scaling factor\n",
        "      seed (int) - number generator seed for repeatability\n",
        "\n",
        "    Returns:\n",
        "      ar (array of float) - autocorrelated data\n",
        "    \"\"\"\n",
        "\n",
        "    # initialize random number generator\n",
        "    rnd = np.random.RandomState(seed)\n",
        "\n",
        "    # initialize array of random numbers equal to the length\n",
        "    # of the given time steps plus 50\n",
        "    ar = rnd.randn(len(time) + 50)\n",
        "\n",
        "    # set first 50 elements to a constant\n",
        "    ar[:50] = 100\n",
        "\n",
        "    # define scaling factors\n",
        "    phi1 = 0.5\n",
        "    phi2 = -0.1\n",
        "\n",
        "    # autocorrelate element 51 onwards with the measurement at\n",
        "    # (t-50) and (t-30), where t is the current time step\n",
        "    for step in range(50, len(time) + 50):\n",
        "        ar[step] += phi1 * ar[step - 50]\n",
        "        ar[step] += phi2 * ar[step - 33]\n",
        "\n",
        "    # get the autocorrelated data and scale with the given amplitude.\n",
        "    # the first 50 elements of the original array is truncated because\n",
        "    # those are just constant and not autocorrelated.\n",
        "    ar = ar[50:] * amplitude\n",
        "\n",
        "    return ar"
      ]
    },
    {
      "cell_type": "code",
      "execution_count": null,
      "metadata": {
        "id": "MVM204K66bnC"
      },
      "outputs": [],
      "source": [
        "# use time steps from previous section and generate autocorrelated data\n",
        "series = autocorrelation(time, amplitude=10, seed=42)\n",
        "\n",
        "# plot the first 200 elements to see the pattern more clearly\n",
        "plot_series(time[:200], series[:200])"
      ]
    },
    {
      "cell_type": "code",
      "execution_count": null,
      "metadata": {
        "id": "SLRo57dpFChw"
      },
      "outputs": [],
      "source": [
        "def autocorrelation(time, amplitude, seed=None):\n",
        "    \"\"\"\n",
        "    Generates autocorrelated data\n",
        "\n",
        "    Args:\n",
        "      time (array of int) - contains the time steps\n",
        "      amplitude (float) - scaling factor\n",
        "      seed (int) - number generator seed for repeatability\n",
        "\n",
        "    Returns:\n",
        "      ar (array of float) - generated autocorrelated data\n",
        "    \"\"\"\n",
        "\n",
        "    # initialize random number generator\n",
        "    rnd = np.random.RandomState(seed)\n",
        "\n",
        "    # initialize array of random numbers equal to the length\n",
        "    # of the given time steps plus an additional step\n",
        "    ar = rnd.randn(len(time) + 1)\n",
        "\n",
        "    # define scaling factor\n",
        "    phi = 0.8\n",
        "\n",
        "    # autocorrelate element 11 onwards with the measurement at\n",
        "    # (t-1), where t is the current time step\n",
        "    for step in range(1, len(time) + 1):\n",
        "        ar[step] += phi * ar[step - 1]\n",
        "\n",
        "    # get the autocorrelated data and scale with the given amplitude.\n",
        "    ar = ar[1:] * amplitude\n",
        "\n",
        "    return ar"
      ]
    },
    {
      "cell_type": "code",
      "execution_count": null,
      "metadata": {
        "id": "SRvSNVjJFHDk"
      },
      "outputs": [],
      "source": [
        "# use time steps from previous section and generate autocorrelated data\n",
        "series = autocorrelation(time, amplitude=10, seed=42)\n",
        "\n",
        "# plot the results\n",
        "plot_series(time[:200], series[:200])"
      ]
    },
    {
      "cell_type": "code",
      "execution_count": null,
      "metadata": {
        "id": "iBfpCbu6jsaB"
      },
      "outputs": [],
      "source": [
        "# with decay\n",
        "\n",
        "def impulses(time, num_impulses, amplitude=1, seed=None):\n",
        "    \"\"\"\n",
        "    Generates random impulses\n",
        "\n",
        "    Args:\n",
        "      time (array of int) - contains the time steps\n",
        "      num_impulses (int) - number of impulses to generate\n",
        "      amplitude (float) - scaling factor\n",
        "      seed (int) - number generator seed for repeatability\n",
        "\n",
        "    Returns:\n",
        "      series (array of float) - array containing the impulses\n",
        "    \"\"\"\n",
        "\n",
        "    # initialize random number generator\n",
        "    rnd = np.random.RandomState(seed)\n",
        "\n",
        "    # generate random numbers\n",
        "    impulse_indices = rnd.randint(len(time), size=num_impulses)\n",
        "\n",
        "    # initialize series\n",
        "    series = np.zeros(len(time))\n",
        "\n",
        "    # insert random impulses\n",
        "    for index in impulse_indices:\n",
        "        series[index] += rnd.rand() * amplitude\n",
        "\n",
        "    return series"
      ]
    },
    {
      "cell_type": "code",
      "execution_count": null,
      "metadata": {
        "id": "BJ1kXWNLg_BD"
      },
      "outputs": [],
      "source": [
        "# generate random impulses\n",
        "impulses_signal = impulses(time, num_impulses=10, seed=42)\n",
        "\n",
        "# plot the results\n",
        "plot_series(time, impulses_signal)"
      ]
    },
    {
      "cell_type": "code",
      "execution_count": null,
      "metadata": {
        "id": "yW91NpqhH1OT"
      },
      "outputs": [],
      "source": [
        "def autocorrelation_impulses(source, phis):\n",
        "    \"\"\"\n",
        "    Generates autocorrelated data from impulses\n",
        "\n",
        "    Args:\n",
        "      source (array of float) - contains the time steps with impulses\n",
        "      phis (dict) - dictionary containing the lag time and decay rates\n",
        "\n",
        "    Returns:\n",
        "      ar (array of float) - generated autocorrelated data\n",
        "    \"\"\"\n",
        "\n",
        "    # copy the source\n",
        "    ar = source.copy()\n",
        "\n",
        "    # compute new series values based on the lag times and decay rates\n",
        "    for step, value in enumerate(source):\n",
        "        for lag, phi in phis.items():\n",
        "            if step - lag > 0:\n",
        "              ar[step] += phi * ar[step - lag]\n",
        "\n",
        "    return ar"
      ]
    },
    {
      "cell_type": "code",
      "execution_count": null,
      "metadata": {
        "id": "KwPD3dgOD80H"
      },
      "outputs": [],
      "source": [
        "# use the impulses from the previous section and generate autocorrelated data\n",
        "series = autocorrelation_impulses(impulses_signal, {1: 0.99})\n",
        "\n",
        "# plot the results\n",
        "plot_series(time, series)"
      ]
    },
    {
      "cell_type": "code",
      "execution_count": null,
      "metadata": {
        "id": "Hj0kK0cMJuXY"
      },
      "outputs": [],
      "source": [
        "# use the impulses from the previous section and generate autocorrelated data\n",
        "series = autocorrelation_impulses(impulses_signal, {1: 0.70, 50: 0.2})\n",
        "\n",
        "# plot the results\n",
        "plot_series(time, series)"
      ]
    },
    {
      "cell_type": "code",
      "execution_count": null,
      "metadata": {
        "id": "9MZ2sCmM8XPU"
      },
      "outputs": [],
      "source": [
        "# generate autocorrelated data with an upward trend\n",
        "series = autocorrelation(time, 10, seed=42) + trend(time, 2)\n",
        "\n",
        "# plot the results\n",
        "plot_series(time[:200], series[:200])"
      ]
    },
    {
      "cell_type": "code",
      "execution_count": null,
      "metadata": {
        "id": "hqx5et9Bzp5e"
      },
      "outputs": [],
      "source": [
        "# generate autocorrelated data with an upward trend + seasonality\n",
        "series = autocorrelation(time, 10, seed=42) + seasonality(time, period=50, amplitude=150) + trend(time, 2)\n",
        "\n",
        "# plot the results\n",
        "plot_series(time[:200], series[:200])\n"
      ]
    },
    {
      "cell_type": "markdown",
      "metadata": {
        "id": "dtxPKnNfLAhl"
      },
      "source": [
        "## Non-stationary Time Series\n",
        "\n"
      ]
    },
    {
      "cell_type": "code",
      "execution_count": null,
      "metadata": {
        "id": "qb5echI7rHqA"
      },
      "outputs": [],
      "source": [
        "# generate data with positive trend\n",
        "series = autocorrelation(time, 10, seed=42) + seasonality(time, period=50, amplitude=150) + trend(time, 2)\n",
        "\n",
        "# generate data with negative trend\n",
        "series2 = autocorrelation(time, 5, seed=42) + seasonality(time, period=50, amplitude=2) + trend(time, -1) + 550\n",
        "\n",
        "# splice the downward trending data into the first one at time step = 200\n",
        "series[200:] = series2[200:]\n",
        "\n",
        "# plot the result\n",
        "plot_series(time[:300], series[:300])"
      ]
    }
  ],
  "metadata": {
    "colab": {
      "private_outputs": true,
      "provenance": []
    },
    "kernelspec": {
      "display_name": "Python 3",
      "language": "python",
      "name": "python3"
    },
    "language_info": {
      "codemirror_mode": {
        "name": "ipython",
        "version": 3
      },
      "file_extension": ".py",
      "mimetype": "text/x-python",
      "name": "python",
      "nbconvert_exporter": "python",
      "pygments_lexer": "ipython3",
      "version": "3.7.4"
    }
  },
  "nbformat": 4,
  "nbformat_minor": 0
}